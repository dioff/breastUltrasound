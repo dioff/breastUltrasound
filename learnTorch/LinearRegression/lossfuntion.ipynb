{
 "cells": [
  {
   "cell_type": "markdown",
   "metadata": {},
   "source": [
    "我们在考虑如何使用模型拟合数据之前，我们需要确定一个拟合成都的度量。损失函数能够量化目标的实际值与预测值之间的误差。通常我们会选择非负数作为损失，数值越小表示误差越小，拟合程度越高，完美时的损失为0。\n",
    "\n",
    "回归问题中最常用的损失函数是平方误差函数，当样本i的预测值为$\\hat{y}^i$，真实值为$y^i$时，平方误差函数定义为：\n",
    "\n",
    "$$\n",
    "l_i(w, b) = 1/2(\\hat{y}^i - y^i)^2\n",
    "$$\n",
    "\n",
    "常数1/2在求导时可以消去，因此可以忽略\n",
    "由于训练数据集并不受我们控制，所以经验误差只是关于模型参数的函数\n",
    "\n",
    "由于平方误差中的二次方项，估计值$\\hat{y}_i$与真实值$y_i$的差异将导致更大的损失，为了度量模型在整个数据集上的表现，我们需要计算在训练集n个样本上的损失均值（等价于求和）\n",
    "\n",
    "$$\n",
    "L(w, b) = 1/n \\sum_{i=1}^n l_i(w, b) = 1/n \\sum_{i=1}^n 1/2(w^Tx^i + b - y^i)^2\n",
    "$$\n",
    "\n",
    "在训练模型时，我们希望寻找一组参数$(w^*, b^*)$， 这组参数能最小化在所有训练样本上的总损失如下：\n",
    "$$\n",
    "(w^*, b^*) = \\underset{(w, b)}{argmin} L(w, b)\n",
    "$$"
   ]
  },
  {
   "cell_type": "markdown",
   "metadata": {},
   "source": []
  }
 ],
 "metadata": {
  "kernelspec": {
   "display_name": "pytorch",
   "language": "python",
   "name": "python3"
  },
  "language_info": {
   "name": "python",
   "version": "3.9.19"
  }
 },
 "nbformat": 4,
 "nbformat_minor": 2
}
